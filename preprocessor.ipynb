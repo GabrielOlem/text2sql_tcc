{
 "cells": [
  {
   "cell_type": "code",
   "execution_count": 9,
   "metadata": {},
   "outputs": [],
   "source": [
    "import pandas as pd\n",
    "import os\n",
    "import re"
   ]
  },
  {
   "cell_type": "code",
   "execution_count": 10,
   "metadata": {},
   "outputs": [],
   "source": [
    "queries = pd.read_json(\"C:/Users/GODZILLA/Desktop/Faculdade/TCC/spider2/dev.json\")\n",
    "tables = pd.read_json(\"C:/Users/GODZILLA/Desktop/Faculdade/TCC/spider2/tables.json\")\n",
    "unique_tables = list(tables['db_id'].unique())\n",
    "path = './spider2/database/'"
   ]
  },
  {
   "cell_type": "code",
   "execution_count": 11,
   "metadata": {},
   "outputs": [],
   "source": [
    "def get_schema(row):\n",
    "    schema = \"Schema: \"\n",
    "    tmp = []\n",
    "    tables = list(row['table_names_original'])\n",
    "    column_names = list(row['column_names_original'])\n",
    "    column_types = list(row['column_types'])\n",
    "    foreign_keys = list(row['foreign_keys'])\n",
    "    primary_keys = list(row['primary_keys'])\n",
    "    column_nt = [[column_names[i], column_types[i].replace('number', 'int'), i, i in primary_keys, i in [x[0] for x in foreign_keys]] for i in range(len(column_names))]\n",
    "    for i, t in enumerate(tables):\n",
    "        schema = schema + '\\'' + t + '\\' ['\n",
    "        columns = [name for name in column_nt if name[0][0] == i]\n",
    "        for col in columns:\n",
    "            if col[3] == True:\n",
    "                schema = schema + ' Primary Key:'\n",
    "            schema = schema + ' \\'' + col[0][1] + '\\' ' + col[1] + ','\n",
    "        for fk in [x for x in columns if x[2] in [y[0] for y in foreign_keys]]:\n",
    "            schema = schema + ' Foreign Key:' + ' \\'' + fk[0][1] + '\\' ' + fk[1] + ' from \\'' + tables[column_names[fk[2]][0]] + '\\' \\'' + column_names[fk[2]][1] + '\\','\n",
    "        schema = schema[:-1] + '];\\n'\n",
    "    return schema"
   ]
  },
  {
   "cell_type": "code",
   "execution_count": 12,
   "metadata": {},
   "outputs": [],
   "source": [
    "def get_input(row, tables):\n",
    "    string = \"Question: \"\n",
    "    string = string + row['question'] + '\\n'\n",
    "    string = string + tables[tables['db_id'] == row['db_id']]['schema'].values[0] + '\\n'\n",
    "    string = string + \"Answer: \" + row['query']\n",
    "    return string"
   ]
  },
  {
   "cell_type": "code",
   "execution_count": 13,
   "metadata": {},
   "outputs": [],
   "source": [
    "tables['schema'] = tables.apply(get_schema, axis = 1)"
   ]
  },
  {
   "cell_type": "code",
   "execution_count": 14,
   "metadata": {},
   "outputs": [
    {
     "data": {
      "text/html": [
       "<div>\n",
       "<style scoped>\n",
       "    .dataframe tbody tr th:only-of-type {\n",
       "        vertical-align: middle;\n",
       "    }\n",
       "\n",
       "    .dataframe tbody tr th {\n",
       "        vertical-align: top;\n",
       "    }\n",
       "\n",
       "    .dataframe thead th {\n",
       "        text-align: right;\n",
       "    }\n",
       "</style>\n",
       "<table border=\"1\" class=\"dataframe\">\n",
       "  <thead>\n",
       "    <tr style=\"text-align: right;\">\n",
       "      <th></th>\n",
       "      <th>db_id</th>\n",
       "      <th>query</th>\n",
       "      <th>query_toks</th>\n",
       "      <th>query_toks_no_value</th>\n",
       "      <th>question</th>\n",
       "      <th>question_toks</th>\n",
       "      <th>sql</th>\n",
       "    </tr>\n",
       "  </thead>\n",
       "  <tbody>\n",
       "    <tr>\n",
       "      <th>0</th>\n",
       "      <td>concert_singer</td>\n",
       "      <td>SELECT count(*) FROM singer</td>\n",
       "      <td>[SELECT, count, (, *, ), FROM, singer]</td>\n",
       "      <td>[select, count, (, *, ), from, singer]</td>\n",
       "      <td>How many singers do we have?</td>\n",
       "      <td>[How, many, singers, do, we, have, ?]</td>\n",
       "      <td>{'from': {'table_units': [['table_unit', 1]], ...</td>\n",
       "    </tr>\n",
       "  </tbody>\n",
       "</table>\n",
       "</div>"
      ],
      "text/plain": [
       "            db_id                        query  \\\n",
       "0  concert_singer  SELECT count(*) FROM singer   \n",
       "\n",
       "                               query_toks  \\\n",
       "0  [SELECT, count, (, *, ), FROM, singer]   \n",
       "\n",
       "                      query_toks_no_value                      question  \\\n",
       "0  [select, count, (, *, ), from, singer]  How many singers do we have?   \n",
       "\n",
       "                           question_toks  \\\n",
       "0  [How, many, singers, do, we, have, ?]   \n",
       "\n",
       "                                                 sql  \n",
       "0  {'from': {'table_units': [['table_unit', 1]], ...  "
      ]
     },
     "execution_count": 14,
     "metadata": {},
     "output_type": "execute_result"
    }
   ],
   "source": [
    "queries[0:1]"
   ]
  },
  {
   "cell_type": "code",
   "execution_count": 15,
   "metadata": {},
   "outputs": [],
   "source": [
    "\n",
    "dataset = pd.DataFrame({\"data\":queries.apply(get_input, tables=tables, axis=1)})"
   ]
  },
  {
   "cell_type": "code",
   "execution_count": 16,
   "metadata": {},
   "outputs": [],
   "source": [
    "dataset.to_json('dataset_dev.json', orient='records')"
   ]
  }
 ],
 "metadata": {
  "kernelspec": {
   "display_name": "base",
   "language": "python",
   "name": "python3"
  },
  "language_info": {
   "codemirror_mode": {
    "name": "ipython",
    "version": 3
   },
   "file_extension": ".py",
   "mimetype": "text/x-python",
   "name": "python",
   "nbconvert_exporter": "python",
   "pygments_lexer": "ipython3",
   "version": "3.9.12 (main, Apr  4 2022, 05:22:27) [MSC v.1916 64 bit (AMD64)]"
  },
  "orig_nbformat": 4,
  "vscode": {
   "interpreter": {
    "hash": "dcd16d7b13e5ce7d17a14bd97745a1fbf6a910d77ba6344440a7724639e530a0"
   }
  }
 },
 "nbformat": 4,
 "nbformat_minor": 2
}
