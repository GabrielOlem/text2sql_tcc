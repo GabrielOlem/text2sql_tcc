{
 "cells": [
  {
   "cell_type": "code",
   "execution_count": 1,
   "metadata": {},
   "outputs": [],
   "source": [
    "import json\n",
    "b = json.load(open('C:/Users/GODZILLA/Desktop/Faculdade/TCC/text2sql_tcc/val.json'))"
   ]
  },
  {
   "cell_type": "code",
   "execution_count": 2,
   "metadata": {},
   "outputs": [],
   "source": [
    "c = [x['input_text'].split('<|sql|>')[0] + '<|sql|>' for x in b['a']]"
   ]
  },
  {
   "cell_type": "code",
   "execution_count": 3,
   "metadata": {},
   "outputs": [],
   "source": [
    "import openai\n",
    "\n",
    "openai.api_key = \"API_KEY\""
   ]
  },
  {
   "cell_type": "code",
   "execution_count": 4,
   "metadata": {},
   "outputs": [],
   "source": [
    "messages = []"
   ]
  },
  {
   "cell_type": "code",
   "execution_count": 5,
   "metadata": {},
   "outputs": [],
   "source": [
    "for a in c:\n",
    "    messages.append([{\"role\": \"user\", \"content\": \"Convert text into SQL statements by providing a database schema and a query, and generate only the corresponding SQL statement.\" + a}])"
   ]
  },
  {
   "cell_type": "code",
   "execution_count": 16,
   "metadata": {},
   "outputs": [
    {
     "data": {
      "text/plain": [
       "866"
      ]
     },
     "execution_count": 16,
     "metadata": {},
     "output_type": "execute_result"
    }
   ],
   "source": [
    "len(ans)"
   ]
  },
  {
   "cell_type": "code",
   "execution_count": 9,
   "metadata": {},
   "outputs": [],
   "source": [
    "ans = []"
   ]
  },
  {
   "cell_type": "code",
   "execution_count": 17,
   "metadata": {},
   "outputs": [
    {
     "name": "stdout",
     "output_type": "stream",
     "text": [
      "866\n",
      "867\n",
      "868\n",
      "869\n",
      "870\n",
      "871\n",
      "872\n",
      "873\n",
      "874\n",
      "875\n",
      "876\n",
      "877\n",
      "878\n",
      "879\n",
      "880\n",
      "881\n",
      "882\n",
      "883\n",
      "884\n",
      "885\n",
      "886\n",
      "887\n",
      "888\n",
      "889\n",
      "890\n",
      "891\n",
      "892\n",
      "893\n",
      "894\n",
      "895\n",
      "896\n",
      "897\n",
      "898\n",
      "899\n",
      "900\n",
      "901\n",
      "902\n",
      "903\n",
      "904\n",
      "905\n",
      "906\n",
      "907\n",
      "908\n",
      "909\n",
      "910\n",
      "911\n",
      "912\n",
      "913\n",
      "914\n",
      "915\n",
      "916\n",
      "917\n",
      "918\n",
      "919\n",
      "920\n",
      "921\n",
      "922\n",
      "923\n",
      "924\n",
      "925\n",
      "926\n",
      "927\n",
      "928\n",
      "929\n",
      "930\n",
      "931\n",
      "932\n",
      "933\n",
      "934\n",
      "935\n",
      "936\n",
      "937\n",
      "938\n",
      "939\n",
      "940\n",
      "941\n",
      "942\n",
      "943\n",
      "944\n",
      "945\n",
      "946\n",
      "947\n",
      "948\n",
      "949\n",
      "950\n",
      "951\n",
      "952\n",
      "953\n",
      "954\n",
      "955\n",
      "956\n",
      "957\n",
      "958\n",
      "959\n",
      "960\n",
      "961\n",
      "962\n",
      "963\n",
      "964\n",
      "965\n",
      "966\n",
      "967\n",
      "968\n",
      "969\n",
      "970\n",
      "971\n",
      "972\n",
      "973\n",
      "974\n",
      "975\n",
      "976\n",
      "977\n",
      "978\n",
      "979\n",
      "980\n",
      "981\n",
      "982\n",
      "983\n",
      "984\n",
      "985\n",
      "986\n",
      "987\n",
      "988\n",
      "989\n",
      "990\n",
      "991\n",
      "992\n",
      "993\n",
      "994\n",
      "995\n",
      "996\n",
      "997\n",
      "998\n",
      "999\n",
      "1000\n",
      "1001\n",
      "1002\n",
      "1003\n",
      "1004\n",
      "1005\n",
      "1006\n",
      "1007\n",
      "1008\n",
      "1009\n",
      "1010\n",
      "1011\n",
      "1012\n",
      "1013\n",
      "1014\n",
      "1015\n",
      "1016\n",
      "1017\n",
      "1018\n",
      "1019\n",
      "1020\n",
      "1021\n",
      "1022\n",
      "1023\n",
      "1024\n",
      "1025\n",
      "1026\n",
      "1027\n",
      "1028\n",
      "1029\n",
      "1030\n",
      "1031\n",
      "1032\n",
      "1033\n"
     ]
    }
   ],
   "source": [
    "c = 866\n",
    "for msg in messages[866:]:\n",
    "    print(c)\n",
    "    c = c + 1\n",
    "    chat = openai.ChatCompletion.create(\n",
    "                model=\"gpt-3.5-turbo\", messages=msg, request_timeout=15\n",
    "        )\n",
    "    ans.append(chat.choices[0].message.content)"
   ]
  },
  {
   "cell_type": "code",
   "execution_count": 18,
   "metadata": {},
   "outputs": [
    {
     "data": {
      "text/plain": [
       "1034"
      ]
     },
     "execution_count": 18,
     "metadata": {},
     "output_type": "execute_result"
    }
   ],
   "source": [
    "len(ans)"
   ]
  },
  {
   "cell_type": "code",
   "execution_count": 19,
   "metadata": {},
   "outputs": [
    {
     "name": "stdout",
     "output_type": "stream",
     "text": [
      "Saving inferences on  C:/Users/GODZILLA/Desktop/Faculdade/TCC/text2sql_tcc/inference results/big models/chatgpt/all/result.sql\n"
     ]
    }
   ],
   "source": [
    "save_path = 'C:/Users/GODZILLA/Desktop/Faculdade/TCC/text2sql_tcc/inference results/big models/chatgpt/all/result.sql'\n",
    "print('Saving inferences on ', save_path)\n",
    "with open(save_path, 'w') as f:\n",
    "    f.write(\"<separator>\".join(ans))"
   ]
  },
  {
   "cell_type": "code",
   "execution_count": 62,
   "metadata": {},
   "outputs": [
    {
     "name": "stdout",
     "output_type": "stream",
     "text": [
      "Saving inferences on  C:/Users/GODZILLA/Desktop/Faculdade/TCC/text2sql_tcc/dev_gold.sql\n"
     ]
    }
   ],
   "source": [
    "save_path = 'C:/Users/GODZILLA/Desktop/Faculdade/TCC/text2sql_tcc/dev_gold.sql'\n",
    "print('Saving inferences on ', save_path)\n",
    "with open(save_path, 'r') as f:\n",
    "    a = f.read()"
   ]
  },
  {
   "cell_type": "code",
   "execution_count": 66,
   "metadata": {},
   "outputs": [],
   "source": [
    "indxs = {\n",
    "    'easy': [653, 729, 734, 205, 182, 867, 660, 577, 333, 709, 678, 682, 511, 527, 429, 440, 144, 705, 357, 478, 398, 384, 614, 248, 295],\n",
    "    'medium': [565, 400, 208, 210, 631, 816, 946, 324, 751, 5, 908, 875, 651, 629, 424, 407, 40, 453, 307, 272, 489, 634, 498, 507, 858],\n",
    "    'hard': [282, 635, 294, 375, 379, 173, 103, 786, 920, 645, 212, 855, 255, 53, 29, 159, 466, 279, 54, 396, 894, 900, 899, 676, 276],\n",
    "    'extra': [530, 85, 151, 741, 97, 549, 129, 223, 427, 420, 421, 945, 60, 231, 41, 794, 754, 747, 503, 222, 931, 935, 86, 698, 637],\n",
    "}"
   ]
  },
  {
   "cell_type": "code",
   "execution_count": 74,
   "metadata": {},
   "outputs": [
    {
     "name": "stdout",
     "output_type": "stream",
     "text": [
      "Saving inferences on  C:/Users/GODZILLA/Desktop/Faculdade/TCC/text2sql_tcc/dev_easy.sql\n",
      "Saving inferences on  C:/Users/GODZILLA/Desktop/Faculdade/TCC/text2sql_tcc/dev_medium.sql\n",
      "Saving inferences on  C:/Users/GODZILLA/Desktop/Faculdade/TCC/text2sql_tcc/dev_hard.sql\n",
      "Saving inferences on  C:/Users/GODZILLA/Desktop/Faculdade/TCC/text2sql_tcc/dev_extra.sql\n"
     ]
    }
   ],
   "source": [
    "spl = a.split('\\n')\n",
    "for i in indxs:\n",
    "    d = [spl[c] for c in indxs[i]]\n",
    "    save_path = f'C:/Users/GODZILLA/Desktop/Faculdade/TCC/text2sql_tcc/dev_{i}.sql'\n",
    "    print('Saving inferences on ', save_path)\n",
    "    with open(save_path, 'w') as f:\n",
    "        f.write(\"<separator>\".join(d))"
   ]
  }
 ],
 "metadata": {
  "kernelspec": {
   "display_name": "base",
   "language": "python",
   "name": "python3"
  },
  "language_info": {
   "codemirror_mode": {
    "name": "ipython",
    "version": 3
   },
   "file_extension": ".py",
   "mimetype": "text/x-python",
   "name": "python",
   "nbconvert_exporter": "python",
   "pygments_lexer": "ipython3",
   "version": "3.9.12"
  },
  "orig_nbformat": 4
 },
 "nbformat": 4,
 "nbformat_minor": 2
}
